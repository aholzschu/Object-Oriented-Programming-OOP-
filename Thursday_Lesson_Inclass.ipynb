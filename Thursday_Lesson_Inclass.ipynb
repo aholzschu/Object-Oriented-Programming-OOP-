{
 "cells": [
  {
   "cell_type": "markdown",
   "metadata": {},
   "source": [
    "# Object-Oriented-Programming (OOP)"
   ]
  },
  {
   "cell_type": "markdown",
   "metadata": {},
   "source": [
    "## Tasks Today:\n",
    "\n",
    "   \n",
    "\n",
    "1) <b>Creating a Class (Initializing/Declaring)</b> <br>\n",
    "2) <b>Using a Class (Instantiating)</b> <br>\n",
    " &nbsp;&nbsp;&nbsp;&nbsp; a) Creating One Instance <br>\n",
    " &nbsp;&nbsp;&nbsp;&nbsp; b) Creating Multiple Instances <br>\n",
    " &nbsp;&nbsp;&nbsp;&nbsp; c) In-Class Exercise #1 - Create a Class 'Car' and instantiate three different makes of cars <br>\n",
    "3) <b>The \\__init\\__() Method</b> <br>\n",
    " &nbsp;&nbsp;&nbsp;&nbsp; a) The 'self' Attribute <br>\n",
    "4) <b>Class Attributes</b> <br>\n",
    " &nbsp;&nbsp;&nbsp;&nbsp; a) Initializing Attributes <br>\n",
    " &nbsp;&nbsp;&nbsp;&nbsp; b) Setting an Attribute Outside of the \\__init\\__() Method <br>\n",
    " &nbsp;&nbsp;&nbsp;&nbsp; c) Setting Defaults for Attributes <br>\n",
    " &nbsp;&nbsp;&nbsp;&nbsp; d) Accessing Class Attributes <br>\n",
    " &nbsp;&nbsp;&nbsp;&nbsp; e) Changing Class Attributes <br>\n",
    " &nbsp;&nbsp;&nbsp;&nbsp; f) In-Class Exercise #2 - Add a color and wheels attribute to your 'Car' class <br>\n",
    "5) <b>Class Methods</b> <br>\n",
    " &nbsp;&nbsp;&nbsp;&nbsp; a) Creating <br>\n",
    " &nbsp;&nbsp;&nbsp;&nbsp; b) Calling <br>\n",
    " &nbsp;&nbsp;&nbsp;&nbsp; c) Modifying an Attribute's Value Through a Method <br>\n",
    " &nbsp;&nbsp;&nbsp;&nbsp; d) Incrementing an Attribute's Value Through a Method <br>\n",
    " &nbsp;&nbsp;&nbsp;&nbsp; e) In-Class Exercise #3 - Add a method that prints the cars color and wheel number, then call them <br>\n",
    "6) <b>Inheritance</b> <br>\n",
    " &nbsp;&nbsp;&nbsp;&nbsp; a) Syntax for Inheriting from a Parent Class <br>\n",
    " &nbsp;&nbsp;&nbsp;&nbsp; b) The \\__init\\__() Method for a Child Class (super()) <br>\n",
    " &nbsp;&nbsp;&nbsp;&nbsp; c) Defining Attributes and Methods for the Child Class <br>\n",
    " &nbsp;&nbsp;&nbsp;&nbsp; d) Method Overriding <br>\n",
    " &nbsp;&nbsp;&nbsp;&nbsp; e) In-Class Exercise #4 - Create a class 'Ford' that inherits from 'Car' class and initialize it as a Blue Ford Explorer with 4 wheels using the super() method <br>\n",
    "7) <b>Classes as Attributes</b> <br>\n",
    "8) <b>Exercises</b> <br>\n",
    " &nbsp;&nbsp;&nbsp;&nbsp; a) Exercise #1 - Turn the shopping cart program from yesterday into an object-oriented program <br>"
   ]
  },
  {
   "cell_type": "markdown",
   "metadata": {},
   "source": [
    "## Creating a Class (Initializing/Declaring)\n",
    "<p>When creating a class, function, or even a variable you are initializing that object. Initializing and Declaring occur at the same time in Python, whereas in lower level languages you have to declare an object before initializing it. This is the first step in the process of using a class.</p>"
   ]
  },
  {
   "cell_type": "code",
   "execution_count": null,
   "metadata": {},
   "outputs": [],
   "source": [
    "class Car():\n",
    "    wheels = 4\n",
    "    color = 'blue'\n",
    "    \n",
    "nissan = Car()\n",
    "\n",
    "print(nissan.color)\n",
    "print(nissan.wheels)"
   ]
  },
  {
   "cell_type": "markdown",
   "metadata": {},
   "source": [
    "## Using a Class (Instantiating)\n",
    "<p>The process of creating a class is called <i>Instantiating</i>. Each time you create a variable of that type of class, it is referred to as an <i>Instance</i> of that class. This is the second step in the process of using a class.</p>"
   ]
  },
  {
   "cell_type": "markdown",
   "metadata": {},
   "source": [
    "##### Creating One Instance"
   ]
  },
  {
   "cell_type": "code",
   "execution_count": null,
   "metadata": {},
   "outputs": [],
   "source": [
    "ford = Car()"
   ]
  },
  {
   "cell_type": "markdown",
   "metadata": {},
   "source": [
    "##### Creating Multiple Instances"
   ]
  },
  {
   "cell_type": "code",
   "execution_count": null,
   "metadata": {},
   "outputs": [],
   "source": []
  },
  {
   "cell_type": "markdown",
   "metadata": {},
   "source": [
    "##### In-Class Exercise #1 - Create a Class 'Car' and Instantiate three different makes of cars"
   ]
  },
  {
   "cell_type": "code",
   "execution_count": null,
   "metadata": {},
   "outputs": [],
   "source": [
    "class Car():\n",
    "    paint = 'gold'\n",
    "    doors = 2\n",
    "    cup_holders = 0\n",
    "    \n",
    "Ford = Car()\n",
    "Chevy = Car()\n",
    "Jaguar = Car()"
   ]
  },
  {
   "cell_type": "markdown",
   "metadata": {},
   "source": [
    "## The \\__init\\__() Method <br>\n",
    "<p>This method is used in almost every created class, and called only once upon the creation of the class instance. This method will initialize all variables needed for the object.</p>"
   ]
  },
  {
   "cell_type": "code",
   "execution_count": null,
   "metadata": {},
   "outputs": [],
   "source": [
    "class Car():\n",
    "    wheels = 4\n",
    "    def __init__(self, make, model, year): #constructor method #self is name of our instance\n",
    "        self.make = make\n",
    "        self.model = model\n",
    "        self.year = year\n",
    "        \n",
    "\n",
    "nissan = Car('nissan', '400z', 2023)\n",
    "toyota = Car('Toyota','Camry' , 2013)\n",
    "\n",
    "nissan.wheels\n",
    "toyota.make"
   ]
  },
  {
   "cell_type": "markdown",
   "metadata": {},
   "source": [
    "##### The 'self' Attribute <br>\n",
    "<p>This attribute is required to keep track of specific instance's attributes. Without the self attribute, the program would not know how to reference or keep track of an instance's attributes.</p>"
   ]
  },
  {
   "cell_type": "code",
   "execution_count": null,
   "metadata": {},
   "outputs": [],
   "source": [
    "# see above"
   ]
  },
  {
   "cell_type": "markdown",
   "metadata": {},
   "source": [
    "## Class Attributes <br>\n",
    "<p>While variables are inside of a class, they are referred to as attributes and not variables. When someone says 'attribute' you know they're speaking about a class. Attributes can be initialized through the init method, or outside of it.</p>"
   ]
  },
  {
   "cell_type": "markdown",
   "metadata": {},
   "source": [
    "##### Initializing Attributes"
   ]
  },
  {
   "cell_type": "code",
   "execution_count": null,
   "metadata": {},
   "outputs": [],
   "source": [
    "# see above"
   ]
  },
  {
   "cell_type": "markdown",
   "metadata": {},
   "source": [
    "##### Accessing Class Attributes"
   ]
  },
  {
   "cell_type": "code",
   "execution_count": null,
   "metadata": {
    "scrolled": true
   },
   "outputs": [],
   "source": [
    "# See Above"
   ]
  },
  {
   "cell_type": "markdown",
   "metadata": {},
   "source": [
    "##### Setting Defaults for Attributes"
   ]
  },
  {
   "cell_type": "code",
   "execution_count": null,
   "metadata": {},
   "outputs": [],
   "source": [
    "class NflTeams():\n",
    "    def __init__(self, city, name, country = 'america'):\n",
    "        self.city = city\n",
    "        self.name = name\n",
    "        self.country = country\n",
    "\n",
    "broncos = NflTeams('Denver','Broncos')\n",
    "\n",
    "broncos.country\n",
    "\n",
    "seahawks = NflTeams('Seattle', 'Seahawks', 'Germany')\n",
    "seahawks.country\n",
    "\n",
    "broncos.__dict__\n",
    "\n",
    "\n",
    "broncos.city = 'Cheyanne'\n",
    "\n",
    "broncos.city\n",
    "        "
   ]
  },
  {
   "cell_type": "markdown",
   "metadata": {},
   "source": [
    "##### Changing Class Attributes <br>\n",
    "<p>Keep in mind there are global class attributes and then there are attributes only available to each class instance which won't effect other classes.</p>"
   ]
  },
  {
   "cell_type": "code",
   "execution_count": null,
   "metadata": {},
   "outputs": [],
   "source": []
  },
  {
   "cell_type": "code",
   "execution_count": null,
   "metadata": {},
   "outputs": [],
   "source": []
  },
  {
   "cell_type": "markdown",
   "metadata": {},
   "source": [
    "##### In-Class Exercise #2 - Add a doors and seats attribute to your 'Car' class then print out two different instances with different doors and seats"
   ]
  },
  {
   "cell_type": "code",
   "execution_count": null,
   "metadata": {},
   "outputs": [],
   "source": [
    "class Car():\n",
    "    def __init__(self, make, model, year, doors = 4, seats = 5): \n",
    "        self.make = make\n",
    "        self.model = model\n",
    "        self.year = year\n",
    "        self.doors = doors\n",
    "        self.seats = seats\n",
    "\n",
    "ford = Car('ford', 'F150', 1998)\n",
    "chevy = Car('chevy','Colorado', 2016, 2, 6)\n",
    "\n",
    "print(ford.doors,ford.seats)\n",
    "print(chevy.seats)\n"
   ]
  },
  {
   "cell_type": "markdown",
   "metadata": {},
   "source": [
    "## Class Methods <br>\n",
    "<p>While inside of a class, functions are referred to as 'methods'. If you hear someone mention methods, they're speaking about classes. Methods are essentially functions, but only callable on the instances of a class.</p>"
   ]
  },
  {
   "cell_type": "markdown",
   "metadata": {},
   "source": [
    "##### Creating"
   ]
  },
  {
   "cell_type": "code",
   "execution_count": null,
   "metadata": {},
   "outputs": [],
   "source": [
    "class NbaTeam():\n",
    "    def __init__(self, city, name):\n",
    "        self.city = city\n",
    "        self.name = name\n",
    "        self.depth_chart ={}\n",
    "        self.number_of_players = 0\n",
    "    \n",
    "    def add_player(self):\n",
    "        name = input('What is name of the player?').title()\n",
    "        number = input(f\" What is the jersey number of {name}?\")\n",
    "        self.depth_chart[name] = number\n",
    "        self.number_of_players += 1\n",
    "        print(f'{name} was added to the {self.city}{self.name}')\n",
    "\n",
    "    def remove_players(self):\n",
    "        name = input('remove')\n",
    "        if name in self.depth_chart:\n",
    "            print(f'{name} was removed from {self.city}')\n",
    "            del self.depth_chart[name]\n",
    "            self.number_of_players -= 1\n",
    "        else:\n",
    "            print('Player does not exist')\n",
    "    def show_players(self):\n",
    "        print(f'------Current Roster for {self.city}{self.name}--------')\n",
    "        print(f' Number of players: {self.number_of_players}')\n",
    "        for k,v in self.depth_chart.items():\n",
    "            print(k,v)\n",
    "    \n",
    "    def runner(self):\n",
    "        while True:\n",
    "            user_choice = input('What would you like to do? *add, remove, show, or quit').lower()\n",
    "            if user_choice == 'add_item':\n",
    "                self.add_player()\n",
    "            elif user_choice == 'remove_item':\n",
    "                self.remove_players()\n",
    "            elif user_choice == 'show_item':\n",
    "                self.show_players()\n",
    "            elif user_choice == 'close':\n",
    "                self.show_players()\n",
    "                print('Good Luck')\n",
    "                break\n",
    "            else:\n",
    "                print(\"Invalid, please try again.\")\n",
    "\n",
    "lakers = NbaTeam('LA','Lakers')\n",
    "\n",
    "lakers.runner()"
   ]
  },
  {
   "cell_type": "markdown",
   "metadata": {},
   "source": [
    "##### Calling"
   ]
  },
  {
   "cell_type": "code",
   "execution_count": null,
   "metadata": {},
   "outputs": [],
   "source": [
    "# See Above"
   ]
  },
  {
   "cell_type": "markdown",
   "metadata": {},
   "source": [
    "##### Modifying an Attribute's Value Through a Method"
   ]
  },
  {
   "cell_type": "code",
   "execution_count": null,
   "metadata": {},
   "outputs": [],
   "source": []
  },
  {
   "cell_type": "markdown",
   "metadata": {},
   "source": [
    "##### Incrementing an Attribute's Value Through a Method"
   ]
  },
  {
   "cell_type": "code",
   "execution_count": null,
   "metadata": {},
   "outputs": [],
   "source": []
  },
  {
   "cell_type": "markdown",
   "metadata": {},
   "source": [
    "##### In-Class Exercise #3 - Add a method that takes in three parameters of year, doors and seats and prints out a formatted print statement with make, model, year, seats, and doors"
   ]
  },
  {
   "cell_type": "code",
   "execution_count": null,
   "metadata": {},
   "outputs": [],
   "source": [
    "# Create class with 2 paramters inside of the __init__ which are make and model\n",
    "\n",
    "# Inside of the Car class create a method that has 4 parameter in total (self,year,door,seats)\n",
    "\n",
    "# Output: This car is from 2019 and is a Ford Expolorer and has 4 doors and 5 seats\n",
    "class Car():\n",
    "    def __init__(self, make, model): #constructor method #self is name of our instance\n",
    "        self.make = make\n",
    "        self.model = model\n",
    "        \n",
    "    def car_type(self, doors, year, seats):\n",
    "        # self.doors = doors #not needed when creating a function \n",
    "        # self.year = year\n",
    "        # self.seats = seats\n",
    "        print(f' This car is from {year} and is a {self.make} {self.model} and has a {doors} and {seats} seats.' )\n",
    "\n",
    "Chevy = Car('chevy', 'colorado')\n",
    "\n",
    "Chevy.car_type(4,2002,4)              \n",
    "    \n"
   ]
  },
  {
   "cell_type": "markdown",
   "metadata": {},
   "source": [
    "## Inheritance <br>\n",
    "<p>You can create a child-parent relationship between two classes by using inheritance. What this allows you to do is have overriding methods, but also inherit traits from the parent class. Think of it as an actual parent and child, the child will inherit the parent's genes, as will the classes in OOP</p>"
   ]
  },
  {
   "cell_type": "markdown",
   "metadata": {},
   "source": [
    "##### Syntax for Inheriting from a Parent Class"
   ]
  },
  {
   "cell_type": "code",
   "execution_count": null,
   "metadata": {},
   "outputs": [],
   "source": [
    "class User(): #important with flask \n",
    "    def sign_in(self):\n",
    "        print('signed in.')\n",
    "\n",
    "class Warrior(User):\n",
    "    pass\n",
    "\n",
    "class Archer(User):\n",
    "    pass\n",
    "\n",
    "warrior1 = Warrior()\n",
    "warrior1.sign_in()"
   ]
  },
  {
   "cell_type": "markdown",
   "metadata": {},
   "source": [
    "##### The \\__init\\__() Method for a Child Class - super()"
   ]
  },
  {
   "cell_type": "code",
   "execution_count": null,
   "metadata": {
    "scrolled": true
   },
   "outputs": [],
   "source": []
  },
  {
   "cell_type": "markdown",
   "metadata": {},
   "source": [
    "##### Defining Attributes and Methods for the Child Class"
   ]
  },
  {
   "cell_type": "code",
   "execution_count": null,
   "metadata": {},
   "outputs": [],
   "source": [
    "# See Above"
   ]
  },
  {
   "cell_type": "markdown",
   "metadata": {},
   "source": [
    "##### Method Overriding"
   ]
  },
  {
   "cell_type": "code",
   "execution_count": null,
   "metadata": {},
   "outputs": [],
   "source": [
    "# See Above"
   ]
  },
  {
   "cell_type": "markdown",
   "metadata": {},
   "source": [
    "## Classes as Attributes <br>\n",
    "<p>Classes can also be used as attributes within another class. This is useful in situations where you need to keep variables locally stored, instead of globally stored.</p>"
   ]
  },
  {
   "cell_type": "code",
   "execution_count": null,
   "metadata": {},
   "outputs": [],
   "source": []
  },
  {
   "cell_type": "markdown",
   "metadata": {},
   "source": [
    "# Exercises"
   ]
  },
  {
   "cell_type": "markdown",
   "metadata": {},
   "source": [
    "### Exercise 1 - Turn the shopping cart program from yesterday into an object-oriented program\n",
    "\n",
    "The comments in the cell below are there as a guide for thinking about the problem. However, if you feel a different way is best for you and your own thought process, please do what feels best for you by all means."
   ]
  },
  {
   "cell_type": "code",
   "execution_count": null,
   "metadata": {},
   "outputs": [],
   "source": [
    "# Create a class called cart that retains items and has methods to add, remove, and show\n",
    "\n",
    "class shopping_cart():\n",
    "    def __init__(self, store, product):\n",
    "        self.store = store\n",
    "        self.product = product\n",
    "        self.grocery_list ={}\n",
    "        self.number_of_items = 0\n",
    "    \n",
    "    def add_product(self):\n",
    "        item = input(f\" What product are you buying?\")\n",
    "        area = input('What area is this product located in?').title()\n",
    "        self.grocery_list[item] = area\n",
    "        self.number_of_items += 1\n",
    "        print(f'{item} was added to the grocery list')\n",
    "\n",
    "    def remove_product(self):\n",
    "        item = input('remove')\n",
    "        if item in self.grocery_list:\n",
    "            print(f'{item} was removed from grocery list')\n",
    "            del self.grocery_list[item]\n",
    "            self.number_of_items -= 1\n",
    "        else:\n",
    "            print('Item is not in your cart.')\n",
    "    def show_grocery_list(self):\n",
    "        print(\"Your grocery list contains the following items:\")\n",
    "        print(f' Number of items: {self.number_of_items}')\n",
    "        for k,v in self.grocery_list.items():\n",
    "            print(k,v)\n",
    "    \n",
    "    def walkthrough(self):\n",
    "        while True:\n",
    "            shopper = input('What would you like to do? *add, remove, show, or quit').lower()\n",
    "            if shopper == 'add':\n",
    "                self.add_product()\n",
    "            elif shopper == 'remove':\n",
    "                self.remove_product()\n",
    "            elif shopper == 'show':\n",
    "                self.show_grocery_list()\n",
    "            elif shopper == 'quit':\n",
    "                self.show_grocery_list()\n",
    "                print(f'Thank you for shopping at {self.store} today please come again.')\n",
    "                break\n",
    "            else:\n",
    "                print(\"Currently not in your cart.\")\n",
    "\n",
    "Carl = shopping_cart('Meijer', 'food')\n",
    "    \n",
    "Carl.walkthrough()\n"
   ]
  },
  {
   "cell_type": "markdown",
   "metadata": {},
   "source": [
    "### Exercise 2 - Write a Python class which has two methods get_String and print_String. get_String accept a string from the user and print_String print the string in upper case"
   ]
  },
  {
   "cell_type": "code",
   "execution_count": null,
   "metadata": {},
   "outputs": [],
   "source": [
    "class string_method():\n",
    "    def __init__(self, string):\n",
    "        self.string = {}\n",
    "        \n",
    "\n",
    "    def get_string(self):\n",
    "        word = input (f\" Please write a sentence: \")\n",
    "        self.string[word]\n",
    "        \n",
    "\n",
    "    def print_string(self):\n",
    "        word = input('sentence')\n",
    "        if word in self.string:\n",
    "            print({word}.upper)\n",
    "\n",
    "sentence = string_method()\n",
    "\n",
    "sentence.get_string()\n",
    "sentence.print_string()\n"
   ]
  },
  {
   "cell_type": "code",
   "execution_count": null,
   "metadata": {},
   "outputs": [],
   "source": []
  }
 ],
 "metadata": {
  "kernelspec": {
   "display_name": "Python 3.9.7 64-bit",
   "language": "python",
   "name": "python3"
  },
  "language_info": {
   "codemirror_mode": {
    "name": "ipython",
    "version": 3
   },
   "file_extension": ".py",
   "mimetype": "text/x-python",
   "name": "python",
   "nbconvert_exporter": "python",
   "pygments_lexer": "ipython3",
   "version": "3.9.7"
  },
  "vscode": {
   "interpreter": {
    "hash": "64907145c6e514ce78e4676ca34bdc24480dd4ed0db374ceb884ad79dda0cf9e"
   }
  }
 },
 "nbformat": 4,
 "nbformat_minor": 2
}
